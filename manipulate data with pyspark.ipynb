{
 "cells": [
  {
   "cell_type": "code",
   "execution_count": 1,
   "metadata": {
    "collapsed": true
   },
   "outputs": [],
   "source": [
    "# Import necessary modules\n",
    "import pyspark\n",
    "import pandas as pd\n",
    "import numpy as np\n",
    "\n",
    "# Import SparkSession from pyspark.sql\n",
    "from pyspark.sql import SparkSession"
   ]
  },
  {
   "cell_type": "code",
   "execution_count": 2,
   "metadata": {},
   "outputs": [
    {
     "name": "stdout",
     "output_type": "stream",
     "text": [
      "<SparkContext master=local[*] appName=pyspark-shell>\n",
      "2.4.0\n"
     ]
    }
   ],
   "source": [
    "#creating an instance of the SparkContext\n",
    "sc = pyspark.SparkContext()\n",
    "\n",
    "# Verify SparkContext\n",
    "print(sc)\n",
    "\n",
    "# Print Spark version\n",
    "print(sc.version)"
   ]
  },
  {
   "cell_type": "code",
   "execution_count": 3,
   "metadata": {},
   "outputs": [
    {
     "name": "stdout",
     "output_type": "stream",
     "text": [
      "<pyspark.sql.session.SparkSession object at 0x1073cb8d0>\n"
     ]
    }
   ],
   "source": [
    "# Create my_spark\n",
    "spark = SparkSession.builder.getOrCreate()\n",
    "\n",
    "# Print my_spark\n",
    "print(spark)"
   ]
  },
  {
   "cell_type": "code",
   "execution_count": 4,
   "metadata": {
    "collapsed": true
   },
   "outputs": [],
   "source": [
    "# Read the data\n",
    "df_flights = spark.read.csv(\"flights_small.csv\",header=True)"
   ]
  },
  {
   "cell_type": "code",
   "execution_count": 5,
   "metadata": {
    "collapsed": true
   },
   "outputs": [],
   "source": [
    "# Add flights_df to the catalog\n",
    "df_flights.createOrReplaceTempView('flights')"
   ]
  },
  {
   "cell_type": "code",
   "execution_count": 6,
   "metadata": {
    "collapsed": true
   },
   "outputs": [],
   "source": [
    "# Create the DataFrame flights\n",
    "flights = spark.table(\"flights\")"
   ]
  },
  {
   "cell_type": "code",
   "execution_count": 7,
   "metadata": {},
   "outputs": [
    {
     "name": "stdout",
     "output_type": "stream",
     "text": [
      "[Table(name='flights', database=None, description=None, tableType='TEMPORARY', isTemporary=True)]\n"
     ]
    }
   ],
   "source": [
    "# Print the tables in the catalog\n",
    "print(spark.catalog.listTables())"
   ]
  },
  {
   "cell_type": "code",
   "execution_count": 8,
   "metadata": {},
   "outputs": [
    {
     "name": "stdout",
     "output_type": "stream",
     "text": [
      "+----+-----+---+--------+---------+--------+---------+-------+-------+------+------+----+--------+--------+----+------+\n",
      "|year|month|day|dep_time|dep_delay|arr_time|arr_delay|carrier|tailnum|flight|origin|dest|air_time|distance|hour|minute|\n",
      "+----+-----+---+--------+---------+--------+---------+-------+-------+------+------+----+--------+--------+----+------+\n",
      "|2014|   12|  8|     658|       -7|     935|       -5|     VX| N846VA|  1780|   SEA| LAX|     132|     954|   6|    58|\n",
      "|2014|    1| 22|    1040|        5|    1505|        5|     AS| N559AS|   851|   SEA| HNL|     360|    2677|  10|    40|\n",
      "|2014|    3|  9|    1443|       -2|    1652|        2|     VX| N847VA|   755|   SEA| SFO|     111|     679|  14|    43|\n",
      "|2014|    4|  9|    1705|       45|    1839|       34|     WN| N360SW|   344|   PDX| SJC|      83|     569|  17|     5|\n",
      "|2014|    3|  9|     754|       -1|    1015|        1|     AS| N612AS|   522|   SEA| BUR|     127|     937|   7|    54|\n",
      "|2014|    1| 15|    1037|        7|    1352|        2|     WN| N646SW|    48|   PDX| DEN|     121|     991|  10|    37|\n",
      "|2014|    7|  2|     847|       42|    1041|       51|     WN| N422WN|  1520|   PDX| OAK|      90|     543|   8|    47|\n",
      "|2014|    5| 12|    1655|       -5|    1842|      -18|     VX| N361VA|   755|   SEA| SFO|      98|     679|  16|    55|\n",
      "|2014|    4| 19|    1236|       -4|    1508|       -7|     AS| N309AS|   490|   SEA| SAN|     135|    1050|  12|    36|\n",
      "|2014|   11| 19|    1812|       -3|    2352|       -4|     AS| N564AS|    26|   SEA| ORD|     198|    1721|  18|    12|\n",
      "+----+-----+---+--------+---------+--------+---------+-------+-------+------+------+----+--------+--------+----+------+\n",
      "\n"
     ]
    }
   ],
   "source": [
    "# get the first 10 rows of the flights table and save the result to flights10\n",
    "query = \"FROM flights SELECT * LIMIT 10\"\n",
    "\n",
    "# Get the first 10 rows of flights\n",
    "flights10 = spark.sql(query)\n",
    "\n",
    "# Show the results\n",
    "flights10.show()"
   ]
  },
  {
   "cell_type": "code",
   "execution_count": 9,
   "metadata": {},
   "outputs": [
    {
     "name": "stdout",
     "output_type": "stream",
     "text": [
      "+------+----+---+\n",
      "|origin|dest|  N|\n",
      "+------+----+---+\n",
      "|   SEA| RNO|  8|\n",
      "|   SEA| DTW| 98|\n",
      "|   SEA| CLE|  2|\n",
      "|   SEA| LAX|450|\n",
      "|   PDX| SEA|144|\n",
      "|   SEA| BLI|  5|\n",
      "|   PDX| IAH| 57|\n",
      "|   PDX| PHX|209|\n",
      "|   SEA| SLC|225|\n",
      "|   SEA| SBA| 23|\n",
      "|   SEA| BWI| 29|\n",
      "|   PDX| IAD| 23|\n",
      "|   PDX| SFO|305|\n",
      "|   SEA| KOA| 40|\n",
      "|   PDX| MCI| 15|\n",
      "|   SEA| SJC|213|\n",
      "|   SEA| ABQ| 43|\n",
      "|   SEA| SAT| 18|\n",
      "|   PDX| ONT| 57|\n",
      "|   SEA| LAS|364|\n",
      "+------+----+---+\n",
      "only showing top 20 rows\n",
      "\n"
     ]
    }
   ],
   "source": [
    "####Pandafy a Spark DataFrame####\n",
    "\n",
    "query = \"SELECT origin, dest, COUNT(*) as N FROM flights GROUP BY origin, dest\"\n",
    "\n",
    "# Run the query\n",
    "flight_counts = spark.sql(query)\n",
    "flight_counts.show()"
   ]
  },
  {
   "cell_type": "code",
   "execution_count": 10,
   "metadata": {},
   "outputs": [
    {
     "name": "stdout",
     "output_type": "stream",
     "text": [
      "[Table(name='flights', database=None, description=None, tableType='TEMPORARY', isTemporary=True)]\n",
      "[Table(name='flights', database=None, description=None, tableType='TEMPORARY', isTemporary=True), Table(name='temp', database=None, description=None, tableType='TEMPORARY', isTemporary=True)]\n"
     ]
    }
   ],
   "source": [
    "####Put some Spark in your data####\n",
    "# Create pd_temp\n",
    "pd_temp = pd.DataFrame(np.random.random(10))\n",
    "\n",
    "# Create spark_temp from pd_temp\n",
    "spark_temp = spark.createDataFrame(pd_temp)\n",
    "\n",
    "# Examine the tables in the catalog\n",
    "print(spark.catalog.listTables())\n",
    "\n",
    "# Add spark_temp to the catalog\n",
    "spark_temp.createOrReplaceTempView(\"temp\")\n",
    "\n",
    "# Examine the tables in the catalog again\n",
    "print(spark.catalog.listTables())"
   ]
  },
  {
   "cell_type": "code",
   "execution_count": 11,
   "metadata": {},
   "outputs": [
    {
     "name": "stdout",
     "output_type": "stream",
     "text": [
      "+---+--------------------+----------------+-----------------+----+---+---+\n",
      "|faa|                name|             lat|              lon| alt| tz|dst|\n",
      "+---+--------------------+----------------+-----------------+----+---+---+\n",
      "|04G|   Lansdowne Airport|      41.1304722|      -80.6195833|1044| -5|  A|\n",
      "|06A|Moton Field Munic...|      32.4605722|      -85.6800278| 264| -5|  A|\n",
      "|06C| Schaumburg Regional|      41.9893408|      -88.1012428| 801| -6|  A|\n",
      "|06N|     Randall Airport|       41.431912|      -74.3915611| 523| -5|  A|\n",
      "|09J|Jekyll Island Air...|      31.0744722|      -81.4277778|  11| -4|  A|\n",
      "|0A9|Elizabethton Muni...|      36.3712222|      -82.1734167|1593| -4|  A|\n",
      "|0G6|Williams County A...|      41.4673056|      -84.5067778| 730| -5|  A|\n",
      "|0G7|Finger Lakes Regi...|      42.8835647|      -76.7812318| 492| -5|  A|\n",
      "|0P2|Shoestring Aviati...|      39.7948244|      -76.6471914|1000| -5|  U|\n",
      "|0S9|Jefferson County ...|      48.0538086|     -122.8106436| 108| -8|  A|\n",
      "|0W3|Harford County Ai...|      39.5668378|      -76.2024028| 409| -5|  A|\n",
      "|10C|  Galt Field Airport|      42.4028889|      -88.3751111| 875| -6|  U|\n",
      "|17G|Port Bucyrus-Craw...|      40.7815556|      -82.9748056|1003| -5|  A|\n",
      "|19A|Jackson County Ai...|      34.1758638|      -83.5615972| 951| -4|  U|\n",
      "|1A3|Martin Campbell F...|      35.0158056|      -84.3468333|1789| -4|  A|\n",
      "|1B9| Mansfield Municipal|      42.0001331|      -71.1967714| 122| -5|  A|\n",
      "|1C9|Frazier Lake Airpark|54.0133333333333|-124.768333333333| 152| -8|  A|\n",
      "|1CS|Clow Internationa...|      41.6959744|      -88.1292306| 670| -6|  U|\n",
      "|1G3|  Kent State Airport|      41.1513889|      -81.4151111|1134| -4|  A|\n",
      "|1OH|     Fortman Airport|      40.5553253|      -84.3866186| 885| -5|  U|\n",
      "+---+--------------------+----------------+-----------------+----+---+---+\n",
      "only showing top 20 rows\n",
      "\n"
     ]
    }
   ],
   "source": [
    "# Read in the airports data\n",
    "airports = spark.read.csv(\"airports.csv\",header=True)\n",
    "\n",
    "# Show the data\n",
    "airports.show()"
   ]
  },
  {
   "cell_type": "code",
   "execution_count": 12,
   "metadata": {},
   "outputs": [
    {
     "name": "stdout",
     "output_type": "stream",
     "text": [
      "+----+-----+---+--------+---------+--------+---------+-------+-------+------+------+----+--------+--------+----+------+\n",
      "|year|month|day|dep_time|dep_delay|arr_time|arr_delay|carrier|tailnum|flight|origin|dest|air_time|distance|hour|minute|\n",
      "+----+-----+---+--------+---------+--------+---------+-------+-------+------+------+----+--------+--------+----+------+\n",
      "|2014|   12|  8|     658|       -7|     935|       -5|     VX| N846VA|  1780|   SEA| LAX|     132|     954|   6|    58|\n",
      "|2014|    1| 22|    1040|        5|    1505|        5|     AS| N559AS|   851|   SEA| HNL|     360|    2677|  10|    40|\n",
      "|2014|    3|  9|    1443|       -2|    1652|        2|     VX| N847VA|   755|   SEA| SFO|     111|     679|  14|    43|\n",
      "|2014|    4|  9|    1705|       45|    1839|       34|     WN| N360SW|   344|   PDX| SJC|      83|     569|  17|     5|\n",
      "|2014|    3|  9|     754|       -1|    1015|        1|     AS| N612AS|   522|   SEA| BUR|     127|     937|   7|    54|\n",
      "|2014|    1| 15|    1037|        7|    1352|        2|     WN| N646SW|    48|   PDX| DEN|     121|     991|  10|    37|\n",
      "|2014|    7|  2|     847|       42|    1041|       51|     WN| N422WN|  1520|   PDX| OAK|      90|     543|   8|    47|\n",
      "|2014|    5| 12|    1655|       -5|    1842|      -18|     VX| N361VA|   755|   SEA| SFO|      98|     679|  16|    55|\n",
      "|2014|    4| 19|    1236|       -4|    1508|       -7|     AS| N309AS|   490|   SEA| SAN|     135|    1050|  12|    36|\n",
      "|2014|   11| 19|    1812|       -3|    2352|       -4|     AS| N564AS|    26|   SEA| ORD|     198|    1721|  18|    12|\n",
      "|2014|   11|  8|    1653|       -2|    1924|       -1|     AS| N323AS|   448|   SEA| LAX|     130|     954|  16|    53|\n",
      "|2014|    8|  3|    1120|        0|    1415|        2|     AS| N305AS|   656|   SEA| PHX|     154|    1107|  11|    20|\n",
      "|2014|   10| 30|     811|       21|    1038|       29|     AS| N433AS|   608|   SEA| LAS|     127|     867|   8|    11|\n",
      "|2014|   11| 12|    2346|       -4|     217|      -28|     AS| N765AS|   121|   SEA| ANC|     183|    1448|  23|    46|\n",
      "|2014|   10| 31|    1314|       89|    1544|      111|     AS| N713AS|   306|   SEA| SFO|     129|     679|  13|    14|\n",
      "|2014|    1| 29|    2009|        3|    2159|        9|     UA| N27205|  1458|   PDX| SFO|      90|     550|  20|     9|\n",
      "|2014|   12| 17|    2015|       50|    2150|       41|     AS| N626AS|   368|   SEA| SMF|      76|     605|  20|    15|\n",
      "|2014|    8| 11|    1017|       -3|    1613|       -7|     WN| N8634A|   827|   SEA| MDW|     216|    1733|  10|    17|\n",
      "|2014|    1| 13|    2156|       -9|     607|      -15|     AS| N597AS|    24|   SEA| BOS|     290|    2496|  21|    56|\n",
      "|2014|    6|  5|    1733|      -12|    1945|      -10|     OO| N215AG|  3488|   PDX| BUR|     111|     817|  17|    33|\n",
      "+----+-----+---+--------+---------+--------+---------+-------+-------+------+------+----+--------+--------+----+------+\n",
      "only showing top 20 rows\n",
      "\n",
      "None\n"
     ]
    }
   ],
   "source": [
    "####Creating columns####\n",
    "# Create the DataFrame flights\n",
    "flights = spark.table(\"flights\")\n",
    "\n",
    "# Show the head\n",
    "print(flights.show())"
   ]
  },
  {
   "cell_type": "code",
   "execution_count": 14,
   "metadata": {},
   "outputs": [
    {
     "name": "stdout",
     "output_type": "stream",
     "text": [
      "root\n",
      " |-- year: string (nullable = true)\n",
      " |-- month: string (nullable = true)\n",
      " |-- day: string (nullable = true)\n",
      " |-- dep_time: string (nullable = true)\n",
      " |-- dep_delay: string (nullable = true)\n",
      " |-- arr_time: string (nullable = true)\n",
      " |-- arr_delay: string (nullable = true)\n",
      " |-- carrier: string (nullable = true)\n",
      " |-- tailnum: string (nullable = true)\n",
      " |-- flight: string (nullable = true)\n",
      " |-- origin: string (nullable = true)\n",
      " |-- dest: string (nullable = true)\n",
      " |-- air_time: string (nullable = true)\n",
      " |-- distance: string (nullable = true)\n",
      " |-- hour: string (nullable = true)\n",
      " |-- minute: string (nullable = true)\n",
      "\n"
     ]
    }
   ],
   "source": [
    "flights.printSchema()"
   ]
  },
  {
   "cell_type": "code",
   "execution_count": 15,
   "metadata": {
    "collapsed": true
   },
   "outputs": [],
   "source": [
    "flights=flights.select(\n",
    "        flights.year.cast(\"float\"), \n",
    "        flights.month.cast(\"float\"), \n",
    "        flights.day.cast(\"float\"),\n",
    "        flights.dep_time.cast(\"float\"), \n",
    "        flights.dep_delay.cast(\"float\"), \n",
    "        flights.arr_time.cast(\"float\"),\n",
    "        flights.arr_delay.cast(\"float\"),     \n",
    "        flights.carrier, \n",
    "        flights.tailnum,\n",
    "        flights.flight,\n",
    "        flights.origin,\n",
    "        flights.dest,\n",
    "        flights.air_time.cast(\"float\"), \n",
    "        flights.distance.cast(\"float\"),\n",
    "        flights.hour.cast(\"float\"),         \n",
    "        flights.minute.cast(\"float\")\n",
    "    )"
   ]
  },
  {
   "cell_type": "code",
   "execution_count": 16,
   "metadata": {},
   "outputs": [
    {
     "data": {
      "text/plain": [
       "[('year', 'float'),\n",
       " ('month', 'float'),\n",
       " ('day', 'float'),\n",
       " ('dep_time', 'float'),\n",
       " ('dep_delay', 'float'),\n",
       " ('arr_time', 'float'),\n",
       " ('arr_delay', 'float'),\n",
       " ('carrier', 'string'),\n",
       " ('tailnum', 'string'),\n",
       " ('flight', 'string'),\n",
       " ('origin', 'string'),\n",
       " ('dest', 'string'),\n",
       " ('air_time', 'float'),\n",
       " ('distance', 'float'),\n",
       " ('hour', 'float'),\n",
       " ('minute', 'float')]"
      ]
     },
     "execution_count": 16,
     "metadata": {},
     "output_type": "execute_result"
    }
   ],
   "source": [
    "flights.dtypes"
   ]
  },
  {
   "cell_type": "code",
   "execution_count": 17,
   "metadata": {},
   "outputs": [
    {
     "name": "stdout",
     "output_type": "stream",
     "text": [
      "+------+-----+----+--------+---------+--------+---------+-------+-------+------+------+----+--------+--------+----+------+------------------+\n",
      "|  year|month| day|dep_time|dep_delay|arr_time|arr_delay|carrier|tailnum|flight|origin|dest|air_time|distance|hour|minute|      duration_hrs|\n",
      "+------+-----+----+--------+---------+--------+---------+-------+-------+------+------+----+--------+--------+----+------+------------------+\n",
      "|2014.0|  1.0|22.0|  1040.0|      5.0|  1505.0|      5.0|     AS| N559AS|   851|   SEA| HNL|   360.0|  2677.0|10.0|  40.0|               6.0|\n",
      "|2014.0|  4.0|19.0|  1236.0|     -4.0|  1508.0|     -7.0|     AS| N309AS|   490|   SEA| SAN|   135.0|  1050.0|12.0|  36.0|              2.25|\n",
      "|2014.0| 11.0|19.0|  1812.0|     -3.0|  2352.0|     -4.0|     AS| N564AS|    26|   SEA| ORD|   198.0|  1721.0|18.0|  12.0|               3.3|\n",
      "|2014.0|  8.0| 3.0|  1120.0|      0.0|  1415.0|      2.0|     AS| N305AS|   656|   SEA| PHX|   154.0|  1107.0|11.0|  20.0| 2.566666666666667|\n",
      "|2014.0| 11.0|12.0|  2346.0|     -4.0|   217.0|    -28.0|     AS| N765AS|   121|   SEA| ANC|   183.0|  1448.0|23.0|  46.0|              3.05|\n",
      "|2014.0|  8.0|11.0|  1017.0|     -3.0|  1613.0|     -7.0|     WN| N8634A|   827|   SEA| MDW|   216.0|  1733.0|10.0|  17.0|               3.6|\n",
      "|2014.0|  1.0|13.0|  2156.0|     -9.0|   607.0|    -15.0|     AS| N597AS|    24|   SEA| BOS|   290.0|  2496.0|21.0|  56.0| 4.833333333333333|\n",
      "|2014.0|  9.0|26.0|   610.0|     -5.0|  1523.0|     65.0|     US| N127UW|   616|   SEA| PHL|   293.0|  2378.0| 6.0|  10.0| 4.883333333333334|\n",
      "|2014.0| 12.0| 4.0|   954.0|     -6.0|  1348.0|    -17.0|     HA| N395HA|    29|   SEA| OGG|   333.0|  2640.0| 9.0|  54.0|              5.55|\n",
      "|2014.0|  6.0| 4.0|  1115.0|      0.0|  1346.0|     -3.0|     AS| N461AS|   488|   SEA| SAN|   133.0|  1050.0|11.0|  15.0| 2.216666666666667|\n",
      "|2014.0|  6.0|26.0|  2054.0|     -1.0|  2318.0|     -6.0|     B6| N590JB|   907|   SEA| ANC|   179.0|  1448.0|20.0|  54.0|2.9833333333333334|\n",
      "|2014.0|  6.0| 7.0|  1823.0|     -7.0|  2112.0|    -28.0|     AS| N512AS|   815|   SEA| LIH|   335.0|  2701.0|18.0|  23.0| 5.583333333333333|\n",
      "|2014.0|  4.0|30.0|   801.0|      1.0|  1757.0|     90.0|     AS| N407AS|    18|   SEA| MCO|   342.0|  2554.0| 8.0|   1.0|               5.7|\n",
      "|2014.0| 11.0|29.0|   905.0|    155.0|  1655.0|    170.0|     DL| N824DN|  1598|   SEA| ATL|   229.0|  2182.0| 9.0|   5.0| 3.816666666666667|\n",
      "|2014.0|  6.0| 2.0|  2222.0|      7.0|    55.0|     15.0|     AS| N402AS|    99|   SEA| ANC|   190.0|  1448.0|22.0|  22.0|3.1666666666666665|\n",
      "|2014.0| 11.0|15.0|  1034.0|     -6.0|  1414.0|    -26.0|     AS| N589AS|   794|   SEA| ABQ|   139.0|  1180.0|10.0|  34.0| 2.316666666666667|\n",
      "|2014.0| 10.0|20.0|  1328.0|     -1.0|  1949.0|      4.0|     UA| N68805|  1212|   SEA| IAH|   228.0|  1874.0|13.0|  28.0|               3.8|\n",
      "|2014.0| 12.0|16.0|  1500.0|      0.0|  1906.0|     19.0|     US| N662AW|   500|   SEA| PHX|   151.0|  1107.0|15.0|   0.0|2.5166666666666666|\n",
      "|2014.0| 11.0|19.0|  1319.0|     -6.0|  1821.0|    -14.0|     DL| N309US|  2164|   PDX| MSP|   169.0|  1426.0|13.0|  19.0| 2.816666666666667|\n",
      "|2014.0|  5.0|21.0|   515.0|      0.0|   757.0|      0.0|     US| N172US|   593|   SEA| PHX|   143.0|  1107.0| 5.0|  15.0|2.3833333333333333|\n",
      "+------+-----+----+--------+---------+--------+---------+-------+-------+------+------+----+--------+--------+----+------+------------------+\n",
      "only showing top 20 rows\n",
      "\n",
      "None\n"
     ]
    }
   ],
   "source": [
    "# Add duration_hrs\n",
    "\n",
    "flights = flights.withColumn(\"duration_hrs\",flights.air_time/60)\n",
    "\n",
    "# Filtering Data\n",
    "# Filter flights with a SQL string\n",
    "long_flights1 = flights.filter(\"distance > 1000\")\n",
    "\n",
    "# Examine the data to check they're equal\n",
    "print(long_flights1.show())"
   ]
  },
  {
   "cell_type": "code",
   "execution_count": 18,
   "metadata": {
    "collapsed": true
   },
   "outputs": [],
   "source": [
    "####Selecting####\n",
    "\n",
    "# Select the first set of columns\n",
    "selected1 = flights.select(\"tailnum\",\"origin\",\"dest\")\n",
    "\n",
    "# Select the second set of columns\n",
    "temp = flights.select(flights.origin, flights.dest, flights.carrier)\n",
    "\n",
    "# Define first filter\n",
    "filterA = flights.origin == \"SEA\"\n",
    "\n",
    "# Define second filter\n",
    "filterB = flights.dest == \"PDX\"\n",
    "\n",
    "# Filter the data, first by filterA then by filterB\n",
    "selected2 = temp.filter(filterA).filter(filterB)"
   ]
  },
  {
   "cell_type": "code",
   "execution_count": 19,
   "metadata": {
    "collapsed": true
   },
   "outputs": [],
   "source": [
    "#####Selecting II#####\n",
    "\n",
    "# Define avg_speed\n",
    "avg_speed = (flights.distance/(flights.air_time/60)).alias(\"avg_speed\")\n",
    "\n",
    "# Select the correct columns\n",
    "speed1 = flights.select(\"origin\", \"dest\", \"tailnum\", \"avg_speed\")\n",
    "\n",
    "# Create the same table using a SQL expression\n",
    "speed2 = flights.selectExpr(\"origin\", \"dest\", \"tailnum\", \"distance/(air_time/60) as avg_speed\")"
   ]
  },
  {
   "cell_type": "code",
   "execution_count": 21,
   "metadata": {},
   "outputs": [
    {
     "name": "stdout",
     "output_type": "stream",
     "text": [
      "+-------------+\n",
      "|max(air_time)|\n",
      "+-------------+\n",
      "|        409.0|\n",
      "+-------------+\n",
      "\n"
     ]
    }
   ],
   "source": [
    "# Find the longest flight from SEA in terms of duration\n",
    "flights.filter(flights.origin == 'SEA').groupBy().max('air_time').show()"
   ]
  },
  {
   "cell_type": "code",
   "execution_count": 22,
   "metadata": {},
   "outputs": [
    {
     "name": "stdout",
     "output_type": "stream",
     "text": [
      "+------------------+\n",
      "|     avg(air_time)|\n",
      "+------------------+\n",
      "|188.20689655172413|\n",
      "+------------------+\n",
      "\n",
      "+------------------+\n",
      "| sum(duration_hrs)|\n",
      "+------------------+\n",
      "|25289.600000000126|\n",
      "+------------------+\n",
      "\n"
     ]
    }
   ],
   "source": [
    "#####Aggregating II#####\n",
    "\n",
    "# Average duration of Delta flights\n",
    "flights.filter(flights.carrier == 'DL').filter(flights.origin == 'SEA').groupBy().avg('air_time').show()\n",
    "\n",
    "# Total hours in the air\n",
    "flights.withColumn(\"duration_hrs\", flights.air_time/60).groupBy().sum('duration_hrs').show()"
   ]
  },
  {
   "cell_type": "code",
   "execution_count": 23,
   "metadata": {},
   "outputs": [
    {
     "name": "stdout",
     "output_type": "stream",
     "text": [
      "+-------+-----+\n",
      "|tailnum|count|\n",
      "+-------+-----+\n",
      "| N442AS|   38|\n",
      "| N102UW|    2|\n",
      "| N36472|    4|\n",
      "| N38451|    4|\n",
      "| N73283|    4|\n",
      "| N513UA|    2|\n",
      "| N954WN|    5|\n",
      "| N388DA|    3|\n",
      "| N567AA|    1|\n",
      "| N516UA|    2|\n",
      "| N927DN|    1|\n",
      "| N8322X|    1|\n",
      "| N466SW|    1|\n",
      "|  N6700|    1|\n",
      "| N607AS|   45|\n",
      "| N622SW|    4|\n",
      "| N584AS|   31|\n",
      "| N914WN|    4|\n",
      "| N654AW|    2|\n",
      "| N336NW|    1|\n",
      "+-------+-----+\n",
      "only showing top 20 rows\n",
      "\n",
      "+------+------------------+\n",
      "|origin|     avg(air_time)|\n",
      "+------+------------------+\n",
      "|   SEA| 160.4361496051259|\n",
      "|   PDX|137.11543248288737|\n",
      "+------+------------------+\n",
      "\n"
     ]
    }
   ],
   "source": [
    "#####Grouping and Aggregating I#####\n",
    "\n",
    "# Group by tailnum\n",
    "by_plane = flights.groupBy(\"tailnum\")\n",
    "\n",
    "# Number of flights each plane made\n",
    "by_plane.count().show()\n",
    "\n",
    "# Group by origin\n",
    "by_origin = flights.groupBy(\"origin\")\n",
    "\n",
    "# Average duration of flights from PDX and SEA\n",
    "by_origin.avg(\"air_time\").show()"
   ]
  },
  {
   "cell_type": "code",
   "execution_count": 24,
   "metadata": {},
   "outputs": [
    {
     "name": "stdout",
     "output_type": "stream",
     "text": [
      "+-----+----+------------------+\n",
      "|month|dest|    avg(dep_delay)|\n",
      "+-----+----+------------------+\n",
      "|  3.0| SLC|10.923076923076923|\n",
      "|  8.0| RDM|             -0.25|\n",
      "| 11.0| COS|              23.0|\n",
      "|  4.0| SBA|              -6.6|\n",
      "|  9.0| SNA|              -2.0|\n",
      "|  8.0| SNA|0.2222222222222222|\n",
      "| 12.0| IAH|              12.8|\n",
      "|  4.0| RNO|              17.4|\n",
      "|  3.0| MIA|10.166666666666666|\n",
      "|  9.0| KTN|              -6.0|\n",
      "|  9.0| MKE|              -1.0|\n",
      "| 12.0| EWR|2.1666666666666665|\n",
      "|  7.0| MKE|              16.0|\n",
      "| 12.0| TPA|             -1.25|\n",
      "|  7.0| RDM|              -1.0|\n",
      "| 12.0| HDN|              40.0|\n",
      "| 12.0| PDX|               6.4|\n",
      "|  7.0| MCO|              67.0|\n",
      "| 11.0| LIH|13.833333333333334|\n",
      "|  6.0| SAN|             -0.92|\n",
      "+-----+----+------------------+\n",
      "only showing top 20 rows\n",
      "\n",
      "+-----+----+----------------------+\n",
      "|month|dest|stddev_samp(dep_delay)|\n",
      "+-----+----+----------------------+\n",
      "|  3.0| SLC|    27.849581510022748|\n",
      "|  8.0| RDM|     9.617692030835672|\n",
      "| 11.0| COS|     35.35533905932738|\n",
      "|  4.0| SBA|     2.880972058177587|\n",
      "|  9.0| SNA|     6.988085097745541|\n",
      "|  8.0| SNA|    12.360066416895394|\n",
      "| 12.0| IAH|    27.990304443809517|\n",
      "|  4.0| RNO|     33.70904923013997|\n",
      "|  3.0| MIA|    25.561038059254688|\n",
      "|  9.0| KTN|    2.9154759474226504|\n",
      "|  9.0| MKE|                   NaN|\n",
      "| 12.0| EWR|     7.884584115009914|\n",
      "|  7.0| MKE|    5.5677643628300215|\n",
      "| 12.0| TPA|     6.551081335677848|\n",
      "|  7.0| RDM|      8.73212459828649|\n",
      "| 12.0| HDN|                   NaN|\n",
      "| 12.0| PDX|    35.738734488746836|\n",
      "|  7.0| MCO|     59.90826320300064|\n",
      "| 11.0| LIH|     45.85375302706057|\n",
      "|  6.0| SAN|    13.558269309416549|\n",
      "+-----+----+----------------------+\n",
      "only showing top 20 rows\n",
      "\n"
     ]
    }
   ],
   "source": [
    "####Grouping and Aggregating II####\n",
    "\n",
    "# Import pyspark.sql.functions as F\n",
    "import pyspark.sql.functions as F\n",
    "\n",
    "# Group by month and dest\n",
    "by_month_dest = flights.groupBy('month','dest')\n",
    "\n",
    "# Average departure delay by month and destination\n",
    "by_month_dest.avg('dep_delay').show()\n",
    "\n",
    "# Standard deviation\n",
    "by_month_dest.agg(F.stddev('dep_delay')).show()"
   ]
  },
  {
   "cell_type": "code",
   "execution_count": 25,
   "metadata": {},
   "outputs": [
    {
     "name": "stdout",
     "output_type": "stream",
     "text": [
      "+---+--------------------+----------------+-----------------+----+---+---+\n",
      "|faa|                name|             lat|              lon| alt| tz|dst|\n",
      "+---+--------------------+----------------+-----------------+----+---+---+\n",
      "|04G|   Lansdowne Airport|      41.1304722|      -80.6195833|1044| -5|  A|\n",
      "|06A|Moton Field Munic...|      32.4605722|      -85.6800278| 264| -5|  A|\n",
      "|06C| Schaumburg Regional|      41.9893408|      -88.1012428| 801| -6|  A|\n",
      "|06N|     Randall Airport|       41.431912|      -74.3915611| 523| -5|  A|\n",
      "|09J|Jekyll Island Air...|      31.0744722|      -81.4277778|  11| -4|  A|\n",
      "|0A9|Elizabethton Muni...|      36.3712222|      -82.1734167|1593| -4|  A|\n",
      "|0G6|Williams County A...|      41.4673056|      -84.5067778| 730| -5|  A|\n",
      "|0G7|Finger Lakes Regi...|      42.8835647|      -76.7812318| 492| -5|  A|\n",
      "|0P2|Shoestring Aviati...|      39.7948244|      -76.6471914|1000| -5|  U|\n",
      "|0S9|Jefferson County ...|      48.0538086|     -122.8106436| 108| -8|  A|\n",
      "|0W3|Harford County Ai...|      39.5668378|      -76.2024028| 409| -5|  A|\n",
      "|10C|  Galt Field Airport|      42.4028889|      -88.3751111| 875| -6|  U|\n",
      "|17G|Port Bucyrus-Craw...|      40.7815556|      -82.9748056|1003| -5|  A|\n",
      "|19A|Jackson County Ai...|      34.1758638|      -83.5615972| 951| -4|  U|\n",
      "|1A3|Martin Campbell F...|      35.0158056|      -84.3468333|1789| -4|  A|\n",
      "|1B9| Mansfield Municipal|      42.0001331|      -71.1967714| 122| -5|  A|\n",
      "|1C9|Frazier Lake Airpark|54.0133333333333|-124.768333333333| 152| -8|  A|\n",
      "|1CS|Clow Internationa...|      41.6959744|      -88.1292306| 670| -6|  U|\n",
      "|1G3|  Kent State Airport|      41.1513889|      -81.4151111|1134| -4|  A|\n",
      "|1OH|     Fortman Airport|      40.5553253|      -84.3866186| 885| -5|  U|\n",
      "+---+--------------------+----------------+-----------------+----+---+---+\n",
      "only showing top 20 rows\n",
      "\n",
      "None\n",
      "+----+------+-----+----+--------+---------+--------+---------+-------+-------+------+------+--------+--------+----+------+------------------+--------------------+---------+-----------+----+---+---+\n",
      "|dest|  year|month| day|dep_time|dep_delay|arr_time|arr_delay|carrier|tailnum|flight|origin|air_time|distance|hour|minute|      duration_hrs|                name|      lat|        lon| alt| tz|dst|\n",
      "+----+------+-----+----+--------+---------+--------+---------+-------+-------+------+------+--------+--------+----+------+------------------+--------------------+---------+-----------+----+---+---+\n",
      "| LAX|2014.0| 12.0| 8.0|   658.0|     -7.0|   935.0|     -5.0|     VX| N846VA|  1780|   SEA|   132.0|   954.0| 6.0|  58.0|               2.2|    Los Angeles Intl|33.942536|-118.408075| 126| -8|  A|\n",
      "| HNL|2014.0|  1.0|22.0|  1040.0|      5.0|  1505.0|      5.0|     AS| N559AS|   851|   SEA|   360.0|  2677.0|10.0|  40.0|               6.0|       Honolulu Intl|21.318681|-157.922428|  13|-10|  N|\n",
      "| SFO|2014.0|  3.0| 9.0|  1443.0|     -2.0|  1652.0|      2.0|     VX| N847VA|   755|   SEA|   111.0|   679.0|14.0|  43.0|              1.85|  San Francisco Intl|37.618972|-122.374889|  13| -8|  A|\n",
      "| SJC|2014.0|  4.0| 9.0|  1705.0|     45.0|  1839.0|     34.0|     WN| N360SW|   344|   PDX|    83.0|   569.0|17.0|   5.0|1.3833333333333333|Norman Y Mineta S...|  37.3626|-121.929022|  62| -8|  A|\n",
      "| BUR|2014.0|  3.0| 9.0|   754.0|     -1.0|  1015.0|      1.0|     AS| N612AS|   522|   SEA|   127.0|   937.0| 7.0|  54.0|2.1166666666666667|            Bob Hope|34.200667|-118.358667| 778| -8|  A|\n",
      "| DEN|2014.0|  1.0|15.0|  1037.0|      7.0|  1352.0|      2.0|     WN| N646SW|    48|   PDX|   121.0|   991.0|10.0|  37.0|2.0166666666666666|         Denver Intl|39.861656|-104.673178|5431| -7|  A|\n",
      "| OAK|2014.0|  7.0| 2.0|   847.0|     42.0|  1041.0|     51.0|     WN| N422WN|  1520|   PDX|    90.0|   543.0| 8.0|  47.0|               1.5|Metropolitan Oakl...|37.721278|-122.220722|   9| -8|  A|\n",
      "| SFO|2014.0|  5.0|12.0|  1655.0|     -5.0|  1842.0|    -18.0|     VX| N361VA|   755|   SEA|    98.0|   679.0|16.0|  55.0|1.6333333333333333|  San Francisco Intl|37.618972|-122.374889|  13| -8|  A|\n",
      "| SAN|2014.0|  4.0|19.0|  1236.0|     -4.0|  1508.0|     -7.0|     AS| N309AS|   490|   SEA|   135.0|  1050.0|12.0|  36.0|              2.25|      San Diego Intl|32.733556|-117.189667|  17| -8|  A|\n",
      "| ORD|2014.0| 11.0|19.0|  1812.0|     -3.0|  2352.0|     -4.0|     AS| N564AS|    26|   SEA|   198.0|  1721.0|18.0|  12.0|               3.3|  Chicago Ohare Intl|41.978603| -87.904842| 668| -6|  A|\n",
      "| LAX|2014.0| 11.0| 8.0|  1653.0|     -2.0|  1924.0|     -1.0|     AS| N323AS|   448|   SEA|   130.0|   954.0|16.0|  53.0|2.1666666666666665|    Los Angeles Intl|33.942536|-118.408075| 126| -8|  A|\n",
      "| PHX|2014.0|  8.0| 3.0|  1120.0|      0.0|  1415.0|      2.0|     AS| N305AS|   656|   SEA|   154.0|  1107.0|11.0|  20.0| 2.566666666666667|Phoenix Sky Harbo...|33.434278|-112.011583|1135| -7|  N|\n",
      "| LAS|2014.0| 10.0|30.0|   811.0|     21.0|  1038.0|     29.0|     AS| N433AS|   608|   SEA|   127.0|   867.0| 8.0|  11.0|2.1166666666666667|      Mc Carran Intl|36.080056| -115.15225|2141| -8|  A|\n",
      "| ANC|2014.0| 11.0|12.0|  2346.0|     -4.0|   217.0|    -28.0|     AS| N765AS|   121|   SEA|   183.0|  1448.0|23.0|  46.0|              3.05|Ted Stevens Ancho...|61.174361|-149.996361| 152| -9|  A|\n",
      "| SFO|2014.0| 10.0|31.0|  1314.0|     89.0|  1544.0|    111.0|     AS| N713AS|   306|   SEA|   129.0|   679.0|13.0|  14.0|              2.15|  San Francisco Intl|37.618972|-122.374889|  13| -8|  A|\n",
      "| SFO|2014.0|  1.0|29.0|  2009.0|      3.0|  2159.0|      9.0|     UA| N27205|  1458|   PDX|    90.0|   550.0|20.0|   9.0|               1.5|  San Francisco Intl|37.618972|-122.374889|  13| -8|  A|\n",
      "| SMF|2014.0| 12.0|17.0|  2015.0|     50.0|  2150.0|     41.0|     AS| N626AS|   368|   SEA|    76.0|   605.0|20.0|  15.0|1.2666666666666666|     Sacramento Intl|38.695417|-121.590778|  27| -8|  A|\n",
      "| MDW|2014.0|  8.0|11.0|  1017.0|     -3.0|  1613.0|     -7.0|     WN| N8634A|   827|   SEA|   216.0|  1733.0|10.0|  17.0|               3.6| Chicago Midway Intl|41.785972| -87.752417| 620| -6|  A|\n",
      "| BOS|2014.0|  1.0|13.0|  2156.0|     -9.0|   607.0|    -15.0|     AS| N597AS|    24|   SEA|   290.0|  2496.0|21.0|  56.0| 4.833333333333333|General Edward La...|42.364347| -71.005181|  19| -5|  A|\n",
      "| BUR|2014.0|  6.0| 5.0|  1733.0|    -12.0|  1945.0|    -10.0|     OO| N215AG|  3488|   PDX|   111.0|   817.0|17.0|  33.0|              1.85|            Bob Hope|34.200667|-118.358667| 778| -8|  A|\n",
      "+----+------+-----+----+--------+---------+--------+---------+-------+-------+------+------+--------+--------+----+------+------------------+--------------------+---------+-----------+----+---+---+\n",
      "only showing top 20 rows\n",
      "\n",
      "None\n"
     ]
    }
   ],
   "source": [
    "####Joining####\n",
    "# Examine the data\n",
    "print(airports.show())\n",
    "\n",
    "# Rename the faa column\n",
    "airports = airports.withColumnRenamed(\"faa\", \"dest\")\n",
    "\n",
    "# Join the DataFrames\n",
    "flights_with_airports = flights.join(airports,on='dest',how=\"leftouter\")\n",
    "\n",
    "# Examine the data again\n",
    "print(flights_with_airports.show())"
   ]
  }
 ],
 "metadata": {
  "kernelspec": {
   "display_name": "Python 3",
   "language": "python",
   "name": "python3"
  },
  "language_info": {
   "codemirror_mode": {
    "name": "ipython",
    "version": 3
   },
   "file_extension": ".py",
   "mimetype": "text/x-python",
   "name": "python",
   "nbconvert_exporter": "python",
   "pygments_lexer": "ipython3",
   "version": "3.6.8"
  }
 },
 "nbformat": 4,
 "nbformat_minor": 2
}
