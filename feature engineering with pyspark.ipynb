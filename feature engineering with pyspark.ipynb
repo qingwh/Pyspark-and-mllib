{
 "cells": [
  {
   "cell_type": "code",
   "execution_count": 20,
   "metadata": {
    "collapsed": true
   },
   "outputs": [],
   "source": [
    "# Import SparkSession from pyspark.sql\n",
    "from pyspark.sql import SparkSession\n",
    "# Create my_spark\n",
    "spark = SparkSession.builder.getOrCreate()\n",
    "# load ratings data\n",
    "df = spark.read.csv(\"2017_StPaul_MN_Real_Estate.csv\", header=True, inferSchema=True)"
   ]
  },
  {
   "cell_type": "code",
   "execution_count": 21,
   "metadata": {},
   "outputs": [
    {
     "name": "stdout",
     "output_type": "stream",
     "text": [
      "root\n",
      " |-- No: integer (nullable = true)\n",
      " |-- MLSID: string (nullable = true)\n",
      " |-- StreetNumberNumeric: integer (nullable = true)\n",
      " |-- streetaddress: string (nullable = true)\n",
      " |-- STREETNAME: string (nullable = true)\n",
      " |-- PostalCode: integer (nullable = true)\n",
      " |-- StateOrProvince: string (nullable = true)\n",
      " |-- City: string (nullable = true)\n",
      " |-- SalesClosePrice: integer (nullable = true)\n",
      " |-- LISTDATE: string (nullable = true)\n",
      " |-- LISTPRICE: integer (nullable = true)\n",
      " |-- LISTTYPE: string (nullable = true)\n",
      " |-- OriginalListPrice: integer (nullable = true)\n",
      " |-- PricePerTSFT: double (nullable = true)\n",
      " |-- FOUNDATIONSIZE: integer (nullable = true)\n",
      " |-- FENCE: string (nullable = true)\n",
      " |-- MapLetter: string (nullable = true)\n",
      " |-- LotSizeDimensions: string (nullable = true)\n",
      " |-- SchoolDistrictNumber: string (nullable = true)\n",
      " |-- DAYSONMARKET: integer (nullable = true)\n",
      " |-- offmarketdate: string (nullable = true)\n",
      " |-- Fireplaces: integer (nullable = true)\n",
      " |-- RoomArea4: string (nullable = true)\n",
      " |-- roomtype: string (nullable = true)\n",
      " |-- ROOF: string (nullable = true)\n",
      " |-- RoomFloor4: string (nullable = true)\n",
      " |-- PotentialShortSale: string (nullable = true)\n",
      " |-- PoolDescription: string (nullable = true)\n",
      " |-- PDOM: integer (nullable = true)\n",
      " |-- GarageDescription: string (nullable = true)\n",
      " |-- SQFTABOVEGROUND: integer (nullable = true)\n",
      " |-- Taxes: integer (nullable = true)\n",
      " |-- RoomFloor1: string (nullable = true)\n",
      " |-- RoomArea1: string (nullable = true)\n",
      " |-- TAXWITHASSESSMENTS: double (nullable = true)\n",
      " |-- TAXYEAR: integer (nullable = true)\n",
      " |-- LivingArea: integer (nullable = true)\n",
      " |-- UNITNUMBER: string (nullable = true)\n",
      " |-- YEARBUILT: integer (nullable = true)\n",
      " |-- ZONING: string (nullable = true)\n",
      " |-- STYLE: string (nullable = true)\n",
      " |-- ACRES: double (nullable = true)\n",
      " |-- CoolingDescription: string (nullable = true)\n",
      " |-- APPLIANCES: string (nullable = true)\n",
      " |-- backonmarketdate: string (nullable = true)\n",
      " |-- ROOMFAMILYCHAR: string (nullable = true)\n",
      " |-- RoomArea3: string (nullable = true)\n",
      " |-- EXTERIOR: string (nullable = true)\n",
      " |-- RoomFloor3: string (nullable = true)\n",
      " |-- RoomFloor2: string (nullable = true)\n",
      " |-- RoomArea2: string (nullable = true)\n",
      " |-- DiningRoomDescription: string (nullable = true)\n",
      " |-- BASEMENT: string (nullable = true)\n",
      " |-- BathsFull: integer (nullable = true)\n",
      " |-- BathsHalf: integer (nullable = true)\n",
      " |-- BATHQUARTER: integer (nullable = true)\n",
      " |-- BATHSTHREEQUARTER: integer (nullable = true)\n",
      " |-- Class: string (nullable = true)\n",
      " |-- BATHSTOTAL: integer (nullable = true)\n",
      " |-- BATHDESC: string (nullable = true)\n",
      " |-- RoomArea5: string (nullable = true)\n",
      " |-- RoomFloor5: string (nullable = true)\n",
      " |-- RoomArea6: string (nullable = true)\n",
      " |-- RoomFloor6: string (nullable = true)\n",
      " |-- RoomArea7: string (nullable = true)\n",
      " |-- RoomFloor7: string (nullable = true)\n",
      " |-- RoomArea8: string (nullable = true)\n",
      " |-- RoomFloor8: string (nullable = true)\n",
      " |-- Bedrooms: integer (nullable = true)\n",
      " |-- SQFTBELOWGROUND: integer (nullable = true)\n",
      " |-- AssumableMortgage: string (nullable = true)\n",
      " |-- AssociationFee: integer (nullable = true)\n",
      " |-- ASSESSMENTPENDING: string (nullable = true)\n",
      " |-- AssessedValuation: double (nullable = true)\n",
      "\n"
     ]
    }
   ],
   "source": [
    "df.printSchema()"
   ]
  },
  {
   "cell_type": "code",
   "execution_count": 18,
   "metadata": {},
   "outputs": [
    {
     "name": "stdout",
     "output_type": "stream",
     "text": [
      "['No.', 'MLSID', 'StreetNumberNumeric', 'streetaddress', 'STREETNAME', 'PostalCode', 'StateOrProvince', 'City', 'SalesClosePrice', 'LISTDATE', 'LISTPRICE', 'LISTTYPE', 'OriginalListPrice', 'PricePerTSFT', 'FOUNDATIONSIZE', 'FENCE', 'MapLetter', 'LotSizeDimensions', 'SchoolDistrictNumber', 'DAYSONMARKET', 'offmarketdate', 'Fireplaces', 'RoomArea4', 'roomtype', 'ROOF', 'RoomFloor4', 'PotentialShortSale', 'PoolDescription', 'PDOM', 'GarageDescription', 'SQFTABOVEGROUND', 'Taxes', 'RoomFloor1', 'RoomArea1', 'TAXWITHASSESSMENTS', 'TAXYEAR', 'LivingArea', 'UNITNUMBER', 'YEARBUILT', 'ZONING', 'STYLE', 'ACRES', 'CoolingDescription', 'APPLIANCES', 'backonmarketdate', 'ROOMFAMILYCHAR', 'RoomArea3', 'EXTERIOR', 'RoomFloor3', 'RoomFloor2', 'RoomArea2', 'DiningRoomDescription', 'BASEMENT', 'BathsFull', 'BathsHalf', 'BATHQUARTER', 'BATHSTHREEQUARTER', 'Class', 'BATHSTOTAL', 'BATHDESC', 'RoomArea5', 'RoomFloor5', 'RoomArea6', 'RoomFloor6', 'RoomArea7', 'RoomFloor7', 'RoomArea8', 'RoomFloor8', 'Bedrooms', 'SQFTBELOWGROUND', 'AssumableMortgage', 'AssociationFee', 'ASSESSMENTPENDING', 'AssessedValuation', 'LOT_SIZE_SQFT', 'YARD_SIZE', 'ASSESSED_TO_LIST', 'TAX_TO_LIST', 'BED_TO_BATHS', 'Total_SQFT', 'BATHS_PER_1000SQFT', 'has_attached_garage', 'garage_list']\n"
     ]
    }
   ],
   "source": [
    "print(df.columns)"
   ]
  },
  {
   "cell_type": "code",
   "execution_count": 22,
   "metadata": {},
   "outputs": [
    {
     "name": "stdout",
     "output_type": "stream",
     "text": [
      "+---+\n",
      "| No|\n",
      "+---+\n",
      "|  1|\n",
      "|  2|\n",
      "|  3|\n",
      "|  4|\n",
      "|  5|\n",
      "+---+\n",
      "only showing top 5 rows\n",
      "\n"
     ]
    }
   ],
   "source": [
    "df[['No']].show(5)"
   ]
  },
  {
   "cell_type": "code",
   "execution_count": 3,
   "metadata": {},
   "outputs": [
    {
     "name": "stdout",
     "output_type": "stream",
     "text": [
      "Corr of ACRES vs SALESCLOSEPRICE: 0.20714585430854263\n",
      "Corr of FOUNDATIONSIZE vs SALESCLOSEPRICE: 0.6152231695664401\n",
      "Corr of YARD_SIZE vs SALESCLOSEPRICE: 0.22060612588935338\n"
     ]
    }
   ],
   "source": [
    "# Lot size in square feet\n",
    "acres_to_sqfeet = 43560\n",
    "df = df.withColumn('LOT_SIZE_SQFT', df['ACRES'] * acres_to_sqfeet)\n",
    "\n",
    "# Create new column YARD_SIZE\n",
    "df = df.withColumn('YARD_SIZE', df['LOT_SIZE_SQFT'] - df['FOUNDATIONSIZE'])\n",
    "\n",
    "# Corr of ACRES vs SALESCLOSEPRICE\n",
    "print(\"Corr of ACRES vs SALESCLOSEPRICE: \" + str(df.corr('YARD_SIZE', 'SalesClosePrice')))\n",
    "# Corr of FOUNDATIONSIZE vs SALESCLOSEPRICE\n",
    "print(\"Corr of FOUNDATIONSIZE vs SALESCLOSEPRICE: \" + str(df.corr('FOUNDATIONSIZE', 'SalesClosePrice')))\n",
    "# Corr of YARD_SIZE vs SALESCLOSEPRICE\n",
    "print(\"Corr of YARD_SIZE vs SALESCLOSEPRICE: \" + str(df.corr('LOT_SIZE_SQFT', 'SalesClosePrice')))"
   ]
  },
  {
   "cell_type": "markdown",
   "metadata": {},
   "source": [
    "# Ratios"
   ]
  },
  {
   "cell_type": "code",
   "execution_count": 4,
   "metadata": {},
   "outputs": [
    {
     "name": "stdout",
     "output_type": "stream",
     "text": [
      "+-----------------+---------+----------------+\n",
      "|ASSESSEDVALUATION|LISTPRICE|ASSESSED_TO_LIST|\n",
      "+-----------------+---------+----------------+\n",
      "|              0.0|   139900|             0.0|\n",
      "|              0.0|   210000|             0.0|\n",
      "|              0.0|   225000|             0.0|\n",
      "|              0.0|   230000|             0.0|\n",
      "|              0.0|   239900|             0.0|\n",
      "+-----------------+---------+----------------+\n",
      "only showing top 5 rows\n",
      "\n",
      "+--------------------+-----+---------+\n",
      "|         TAX_TO_LIST|TAXES|LISTPRICE|\n",
      "+--------------------+-----+---------+\n",
      "|0.013280914939242315| 1858|   139900|\n",
      "| 0.00780952380952381| 1640|   210000|\n",
      "|0.010622222222222222| 2390|   225000|\n",
      "|0.009330434782608695| 2146|   230000|\n",
      "|0.008378491037932471| 2010|   239900|\n",
      "+--------------------+-----+---------+\n",
      "only showing top 5 rows\n",
      "\n",
      "+------------------+--------+----------+\n",
      "|      BED_TO_BATHS|BEDROOMS|BATHSTOTAL|\n",
      "+------------------+--------+----------+\n",
      "|               1.5|       3|         2|\n",
      "|1.3333333333333333|       4|         3|\n",
      "|               2.0|       2|         1|\n",
      "|               1.0|       2|         2|\n",
      "|               1.5|       3|         2|\n",
      "+------------------+--------+----------+\n",
      "only showing top 5 rows\n",
      "\n"
     ]
    }
   ],
   "source": [
    "# ASSESSED_TO_LIST\n",
    "df = df.withColumn('ASSESSED_TO_LIST',df['ASSESSEDVALUATION']/df['LISTPRICE'])\n",
    "df[['ASSESSEDVALUATION', 'LISTPRICE', 'ASSESSED_TO_LIST']].show(5)\n",
    "# TAX_TO_LIST\n",
    "df = df.withColumn('TAX_TO_LIST',df['TAXES']/df['LISTPRICE'])\n",
    "df[['TAX_TO_LIST', 'TAXES', 'LISTPRICE']].show(5)\n",
    "# BED_TO_BATHS\n",
    "df = df.withColumn('BED_TO_BATHS',df['BEDROOMS']/df['BATHSTOTAL'])\n",
    "df[['BED_TO_BATHS', 'BEDROOMS', 'BATHSTOTAL']].show(5)"
   ]
  },
  {
   "cell_type": "markdown",
   "metadata": {},
   "source": [
    "# Deeper Features"
   ]
  },
  {
   "cell_type": "code",
   "execution_count": 5,
   "metadata": {},
   "outputs": [
    {
     "name": "stdout",
     "output_type": "stream",
     "text": [
      "+-------+-------------------+\n",
      "|summary| BATHS_PER_1000SQFT|\n",
      "+-------+-------------------+\n",
      "|  count|               5000|\n",
      "|   mean| 1.4302617483739894|\n",
      "| stddev|  14.12890410245937|\n",
      "|    min|0.39123630672926446|\n",
      "|    max|             1000.0|\n",
      "+-------+-------------------+\n",
      "\n"
     ]
    },
    {
     "data": {
      "image/png": "[encoded data removed]",
      "text/plain": [
       "<Figure size 432x432 with 3 Axes>"
      ]
     },
     "metadata": {},
     "output_type": "display_data"
    },
    {
     "data": {
      "image/png": "[encoded data removed]",
      "text/plain": [
       "<Figure size 432x432 with 3 Axes>"
      ]
     },
     "metadata": {},
     "output_type": "display_data"
    }
   ],
   "source": [
    "import matplotlib.pyplot as plt\n",
    "import seaborn as sns\n",
    "import warnings\n",
    "warnings.filterwarnings(\"ignore\")\n",
    "%matplotlib inline\n",
    "\n",
    "# Create new feature by adding two features together\n",
    "df = df.withColumn('Total_SQFT', df['SQFTBELOWGROUND'] + df['SQFTABOVEGROUND'])\n",
    "\n",
    "# Create additional new feature using previously created feature\n",
    "df = df.withColumn('BATHS_PER_1000SQFT', df['BATHSTOTAL'] / (df['Total_SQFT'] / 1000))\n",
    "df[['BATHS_PER_1000SQFT']].describe().show()\n",
    "\n",
    "# Sample and create pandas dataframe\n",
    "pandas_df = df.sample(False, 0.5, 0).toPandas()\n",
    "\n",
    "from scipy import stats\n",
    "def r2(x, y):\n",
    "    return stats.pearsonr(x, y)[0] ** 2\n",
    "\n",
    "# Linear model plots\n",
    "sns.jointplot(x='Total_SQFT', y='SalesClosePrice', data=pandas_df, kind=\"reg\", stat_func=r2)\n",
    "plt.show()\n",
    "sns.jointplot(x='BATHS_PER_1000SQFT', y='SalesClosePrice', data=pandas_df, kind=\"reg\", stat_func=r2)\n",
    "plt.show()"
   ]
  },
  {
   "cell_type": "markdown",
   "metadata": {},
   "source": [
    "# Extracting Text to New Features"
   ]
  },
  {
   "cell_type": "code",
   "execution_count": 23,
   "metadata": {},
   "outputs": [
    {
     "name": "stdout",
     "output_type": "stream",
     "text": [
      "+------------------------------------------------------------------+-------------------+\n",
      "|                                                 GARAGEDESCRIPTION|has_attached_garage|\n",
      "+------------------------------------------------------------------+-------------------+\n",
      "|                                                   Attached Garage|                  1|\n",
      "|           Attached Garage, Driveway - Asphalt, Garage Door Opener|                  1|\n",
      "|                                                   Attached Garage|                  1|\n",
      "|    Attached Garage, Detached Garage, Tuckunder, Driveway - Gravel|                  1|\n",
      "|           Attached Garage, Driveway - Asphalt, Garage Door Opener|                  1|\n",
      "|                               Attached Garage, Driveway - Asphalt|                  1|\n",
      "|           Attached Garage, Driveway - Asphalt, Garage Door Opener|                  1|\n",
      "|                                                   Attached Garage|                  1|\n",
      "|                                                   Attached Garage|                  1|\n",
      "|                                                   Attached Garage|                  1|\n",
      "|                                                   Attached Garage|                  1|\n",
      "|                                                   Attached Garage|                  1|\n",
      "|                                                   Attached Garage|                  1|\n",
      "|           Attached Garage, Driveway - Asphalt, Garage Door Opener|                  1|\n",
      "|Attached Garage, Tuckunder, Driveway - Asphalt, Garage Door Opener|                  1|\n",
      "|           Attached Garage, Driveway - Asphalt, Garage Door Opener|                  1|\n",
      "|           Attached Garage, Driveway - Asphalt, Garage Door Opener|                  1|\n",
      "|           Attached Garage, Driveway - Asphalt, Garage Door Opener|                  1|\n",
      "|           Attached Garage, Driveway - Asphalt, Garage Door Opener|                  1|\n",
      "|           Attached Garage, Driveway - Asphalt, Garage Door Opener|                  1|\n",
      "+------------------------------------------------------------------+-------------------+\n",
      "only showing top 20 rows\n",
      "\n"
     ]
    }
   ],
   "source": [
    "# Import needed functions\n",
    "from pyspark.sql.functions import when\n",
    "\n",
    "# Create boolean conditions for string matches\n",
    "has_attached_garage = df['GARAGEDESCRIPTION'].like('%Attached Garage%')\n",
    "has_detached_garage = df['GARAGEDESCRIPTION'].like('%Detached Garage%')\n",
    "\n",
    "# Conditional value assignment \n",
    "df = df.withColumn('has_attached_garage', (when(has_attached_garage, 1)\n",
    "                                          .when(has_detached_garage, 0)\n",
    "                                          .otherwise(None)))\n",
    "\n",
    "# Inspect results\n",
    "df[['GARAGEDESCRIPTION', 'has_attached_garage']].show(truncate=100)"
   ]
  },
  {
   "cell_type": "markdown",
   "metadata": {},
   "source": [
    "# Splitting & Exploding"
   ]
  },
  {
   "cell_type": "code",
   "execution_count": 24,
   "metadata": {},
   "outputs": [
    {
     "name": "stdout",
     "output_type": "stream",
     "text": [
      "+----------------------------+\n",
      "|              ex_garage_list|\n",
      "+----------------------------+\n",
      "|             Attached Garage|\n",
      "|      On-Street Parking Only|\n",
      "|                        None|\n",
      "| More Parking Onsite for Fee|\n",
      "|          Garage Door Opener|\n",
      "|   No Int Access to Dwelling|\n",
      "|           Driveway - Gravel|\n",
      "|       Valet Parking for Fee|\n",
      "|              Uncovered/Open|\n",
      "|               Heated Garage|\n",
      "|          Underground Garage|\n",
      "|                       Other|\n",
      "|                  Unassigned|\n",
      "|More Parking Offsite for Fee|\n",
      "|    Driveway - Other Surface|\n",
      "|       Contract Pkg Required|\n",
      "|                     Carport|\n",
      "|                     Secured|\n",
      "|             Detached Garage|\n",
      "|          Driveway - Asphalt|\n",
      "|                  Units Vary|\n",
      "|                    Assigned|\n",
      "|                   Tuckunder|\n",
      "|                     Covered|\n",
      "|            Insulated Garage|\n",
      "|         Driveway - Concrete|\n",
      "|                      Tandem|\n",
      "|           Driveway - Shared|\n",
      "+----------------------------+\n",
      "\n"
     ]
    }
   ],
   "source": [
    "# Import needed functions\n",
    "from  pyspark.sql.functions import  split, explode\n",
    "\n",
    "# Convert string to list-like array\n",
    "df = df.withColumn('garage_list', split(df['GARAGEDESCRIPTION'], ', '))\n",
    "\n",
    "# Explode the values into new records\n",
    "ex_df = df.withColumn('ex_garage_list', explode(df['garage_list']))\n",
    "# Inspect the values\n",
    "ex_df[['ex_garage_list']].distinct().show(100, truncate=50)"
   ]
  },
  {
   "cell_type": "markdown",
   "metadata": {},
   "source": [
    "# Pivot & Join"
   ]
  },
  {
   "cell_type": "code",
   "execution_count": 25,
   "metadata": {
    "collapsed": true
   },
   "outputs": [],
   "source": [
    "from pyspark.sql.functions import coalesce, first, lit\n",
    "# Create a dummy column of constant value\n",
    "ex_df = ex_df.withColumn('constant_val', lit(1))\n",
    "# Pivot \n",
    "piv_df = ex_df.groupBy('No').pivot('ex_garage_list').agg(coalesce(first('constant_val')))"
   ]
  },
  {
   "cell_type": "code",
   "execution_count": 26,
   "metadata": {
    "collapsed": true
   },
   "outputs": [],
   "source": [
    "# Join the dataframes together and fill null\n",
    "joined_df = df.join(piv_df, on='No', how='left')\n",
    "\n",
    "# Columns to zero fill\n",
    "zfill_cols = piv_df.columns\n",
    "\n",
    "# Zero fill the pivoted values\n",
    "zfilled_df = joined_df.fillna(0, subset=zfill_cols)"
   ]
  },
  {
   "cell_type": "markdown",
   "metadata": {},
   "source": [
    "# Time Components"
   ]
  },
  {
   "cell_type": "code",
   "execution_count": 27,
   "metadata": {},
   "outputs": [
    {
     "name": "stdout",
     "output_type": "stream",
     "text": [
      "+-------------+\n",
      "|     LISTDATE|\n",
      "+-------------+\n",
      "| 7/15/17 0:00|\n",
      "| 10/9/17 0:00|\n",
      "| 6/26/17 0:00|\n",
      "| 8/25/17 0:00|\n",
      "| 9/12/17 0:00|\n",
      "| 4/10/17 0:00|\n",
      "|  6/8/17 0:00|\n",
      "| 11/5/17 0:00|\n",
      "|10/12/17 0:00|\n",
      "|  9/2/17 0:00|\n",
      "| 5/19/17 0:00|\n",
      "| 5/11/17 0:00|\n",
      "| 3/12/17 0:00|\n",
      "|  3/6/17 0:00|\n",
      "| 5/18/17 0:00|\n",
      "|10/15/17 0:00|\n",
      "| 9/10/17 0:00|\n",
      "|  9/1/17 0:00|\n",
      "|  5/6/17 0:00|\n",
      "| 8/11/17 0:00|\n",
      "+-------------+\n",
      "only showing top 20 rows\n",
      "\n"
     ]
    }
   ],
   "source": [
    "df[['LISTDATE']].show()"
   ]
  },
  {
   "cell_type": "code",
   "execution_count": 28,
   "metadata": {
    "collapsed": true
   },
   "outputs": [],
   "source": [
    "from pyspark.sql import functions as F\n",
    "df=df.withColumn('LISTDATE', F.unix_timestamp(\"LISTDATE\", \"MM/dd/yyyy H:mm\").cast(\"timestamp\"))\n"
   ]
  },
  {
   "cell_type": "code",
   "execution_count": 29,
   "metadata": {
    "collapsed": true
   },
   "outputs": [],
   "source": [
    "# Import needed functions\n",
    "from pyspark.sql.functions import to_date, dayofweek\n",
    "format\n",
    "# Convert to date type\n",
    "df = df.withColumn('LISTDATE', to_date('LISTDATE'))\n"
   ]
  },
  {
   "cell_type": "code",
   "execution_count": 30,
   "metadata": {},
   "outputs": [
    {
     "name": "stdout",
     "output_type": "stream",
     "text": [
      "+----------+\n",
      "|  LISTDATE|\n",
      "+----------+\n",
      "|0017-07-15|\n",
      "|0017-10-09|\n",
      "|0017-06-26|\n",
      "|0017-08-25|\n",
      "|0017-09-12|\n",
      "|0017-04-10|\n",
      "|0017-06-08|\n",
      "|0017-11-05|\n",
      "|0017-10-12|\n",
      "|0017-09-02|\n",
      "|0017-05-19|\n",
      "|0017-05-11|\n",
      "|0017-03-12|\n",
      "|0017-03-06|\n",
      "|0017-05-18|\n",
      "|0017-10-15|\n",
      "|0017-09-10|\n",
      "|0017-09-01|\n",
      "|0017-05-06|\n",
      "|0017-08-11|\n",
      "+----------+\n",
      "only showing top 20 rows\n",
      "\n"
     ]
    }
   ],
   "source": [
    "df[['LISTDATE']].show()"
   ]
  },
  {
   "cell_type": "code",
   "execution_count": 31,
   "metadata": {},
   "outputs": [
    {
     "data": {
      "image/png": "[encoded data removed]",
      "text/plain": [
       "<Figure size 432x288 with 1 Axes>"
      ]
     },
     "metadata": {},
     "output_type": "display_data"
    }
   ],
   "source": [
    "# Get the day of the week\n",
    "df = df.withColumn('List_Day_of_Week', dayofweek('LISTDATE'))\n",
    "\n",
    "# Sample and convert to pandas dataframe\n",
    "sample_df = df.sample(False, 0.5, 42).toPandas()\n",
    "\n",
    "# Plot count plot of of day of week\n",
    "ax = sns.countplot(x=\"List_Day_of_Week\", data=sample_df)\n",
    "plt.show()"
   ]
  },
  {
   "cell_type": "code",
   "execution_count": 32,
   "metadata": {},
   "outputs": [
    {
     "name": "stdout",
     "output_type": "stream",
     "text": [
      "+-------------------+\n",
      "|Days_Between_Report|\n",
      "+-------------------+\n",
      "|               null|\n",
      "|                  1|\n",
      "|                  0|\n",
      "|                  2|\n",
      "|                  3|\n",
      "|                  9|\n",
      "|                 12|\n",
      "+-------------------+\n",
      "\n"
     ]
    }
   ],
   "source": [
    "from pyspark.sql.functions import lag, datediff, to_date\n",
    "from pyspark.sql.window import Window\n",
    "\n",
    "# Create window\n",
    "w = Window().orderBy(df['LISTDATE'])\n",
    "# Create lag column\n",
    "df = df.withColumn('DATE-1', lag('LISTDATE', count=1).over(w))\n",
    "\n",
    "# Calculate difference between date columns\n",
    "df = df.withColumn('Days_Between_Report', datediff('LISTDATE', 'DATE-1'))\n",
    "# Print results\n",
    "df.select('Days_Between_Report').distinct().show()"
   ]
  },
  {
   "cell_type": "markdown",
   "metadata": {},
   "source": [
    "# Binarizing, Bucketing & Encoding"
   ]
  },
  {
   "cell_type": "code",
   "execution_count": 33,
   "metadata": {},
   "outputs": [
    {
     "name": "stdout",
     "output_type": "stream",
     "text": [
      "+----------------+-----------------+\n",
      "|List_Day_of_Week|Listed_On_Weekend|\n",
      "+----------------+-----------------+\n",
      "|             5.0|              0.0|\n",
      "|             7.0|              1.0|\n",
      "|             7.0|              1.0|\n",
      "|             4.0|              0.0|\n",
      "|             1.0|              0.0|\n",
      "|             7.0|              1.0|\n",
      "|             3.0|              0.0|\n",
      "|             6.0|              1.0|\n",
      "|             3.0|              0.0|\n",
      "|             5.0|              0.0|\n",
      "|             4.0|              0.0|\n",
      "|             3.0|              0.0|\n",
      "|             6.0|              1.0|\n",
      "|             7.0|              1.0|\n",
      "|             3.0|              0.0|\n",
      "|             6.0|              1.0|\n",
      "|             6.0|              1.0|\n",
      "|             4.0|              0.0|\n",
      "|             5.0|              0.0|\n",
      "|             4.0|              0.0|\n",
      "+----------------+-----------------+\n",
      "only showing top 20 rows\n",
      "\n"
     ]
    }
   ],
   "source": [
    "# Import transformer\n",
    "from pyspark.ml.feature import Binarizer\n",
    "df=df.withColumn('List_Day_of_Week', df['List_Day_of_Week'].cast('double'))\n",
    "# Create the transformer\n",
    "binarizer = Binarizer(threshold=5.0, inputCol='List_Day_of_Week', outputCol='Listed_On_Weekend')\n",
    "\n",
    "# Apply the transformation to df\n",
    "df = binarizer.transform(df)\n",
    "\n",
    "# Verify transformation\n",
    "df[['List_Day_of_Week', 'Listed_On_Weekend']].show()"
   ]
  },
  {
   "cell_type": "code",
   "execution_count": 34,
   "metadata": {},
   "outputs": [
    {
     "data": {
      "image/png": "[encoded data removed]",
      "text/plain": [
       "<Figure size 432x288 with 1 Axes>"
      ]
     },
     "metadata": {},
     "output_type": "display_data"
    }
   ],
   "source": [
    "from pyspark.ml.feature import Bucketizer\n",
    "\n",
    "# Plot distribution of sample_df\n",
    "sns.distplot(sample_df['Bedrooms'], axlabel='BEDROOMS')\n",
    "plt.show()"
   ]
  },
  {
   "cell_type": "code",
   "execution_count": 35,
   "metadata": {},
   "outputs": [
    {
     "name": "stdout",
     "output_type": "stream",
     "text": [
      "+--------+--------+\n",
      "|BEDROOMS|bedrooms|\n",
      "+--------+--------+\n",
      "|     3.0|     3.0|\n",
      "|     4.0|     4.0|\n",
      "|     2.0|     2.0|\n",
      "|     2.0|     2.0|\n",
      "|     3.0|     3.0|\n",
      "|     3.0|     3.0|\n",
      "|     3.0|     3.0|\n",
      "|     3.0|     3.0|\n",
      "|     3.0|     3.0|\n",
      "|     3.0|     3.0|\n",
      "|     3.0|     3.0|\n",
      "|     3.0|     3.0|\n",
      "|     3.0|     3.0|\n",
      "|     3.0|     3.0|\n",
      "|     2.0|     2.0|\n",
      "|     3.0|     3.0|\n",
      "|     3.0|     3.0|\n",
      "|     3.0|     3.0|\n",
      "|     3.0|     3.0|\n",
      "|     3.0|     3.0|\n",
      "+--------+--------+\n",
      "only showing top 20 rows\n",
      "\n"
     ]
    }
   ],
   "source": [
    "# Create the bucket splits and bucketizer\n",
    "splits = [0, 1, 2, 3, 4, 5, float('Inf')]\n",
    "buck = Bucketizer(splits=splits, inputCol='Bedrooms', outputCol='bedrooms')\n",
    "\n",
    "# Apply the transformation to df\n",
    "df = buck.transform(df)\n",
    "\n",
    "# Display results\n",
    "df[['BEDROOMS', 'bedrooms']].show()"
   ]
  },
  {
   "cell_type": "code",
   "execution_count": 36,
   "metadata": {},
   "outputs": [
    {
     "name": "stdout",
     "output_type": "stream",
     "text": [
      "+-----------------------------+------------+-------------+\n",
      "|         SCHOOLDISTRICTNUMBER|School_Index|   School_Vec|\n",
      "+-----------------------------+------------+-------------+\n",
      "|             834 - Stillwater|         3.0|(7,[3],[1.0])|\n",
      "|             834 - Stillwater|         3.0|(7,[3],[1.0])|\n",
      "|622 - North St Paul-Maplewood|         1.0|(7,[1],[1.0])|\n",
      "|             834 - Stillwater|         3.0|(7,[3],[1.0])|\n",
      "|622 - North St Paul-Maplewood|         1.0|(7,[1],[1.0])|\n",
      "|             834 - Stillwater|         3.0|(7,[3],[1.0])|\n",
      "|             834 - Stillwater|         3.0|(7,[3],[1.0])|\n",
      "|             834 - Stillwater|         3.0|(7,[3],[1.0])|\n",
      "|             834 - Stillwater|         3.0|(7,[3],[1.0])|\n",
      "|             834 - Stillwater|         3.0|(7,[3],[1.0])|\n",
      "|             834 - Stillwater|         3.0|(7,[3],[1.0])|\n",
      "|             834 - Stillwater|         3.0|(7,[3],[1.0])|\n",
      "|             834 - Stillwater|         3.0|(7,[3],[1.0])|\n",
      "|             834 - Stillwater|         3.0|(7,[3],[1.0])|\n",
      "|             834 - Stillwater|         3.0|(7,[3],[1.0])|\n",
      "|             834 - Stillwater|         3.0|(7,[3],[1.0])|\n",
      "|             834 - Stillwater|         3.0|(7,[3],[1.0])|\n",
      "|             834 - Stillwater|         3.0|(7,[3],[1.0])|\n",
      "|             834 - Stillwater|         3.0|(7,[3],[1.0])|\n",
      "|             834 - Stillwater|         3.0|(7,[3],[1.0])|\n",
      "+-----------------------------+------------+-------------+\n",
      "only showing top 20 rows\n",
      "\n"
     ]
    }
   ],
   "source": [
    "from pyspark.ml.feature import OneHotEncoder, StringIndexer\n",
    "\n",
    "# Map strings to numbers with string indexer\n",
    "string_indexer = StringIndexer(inputCol='SchoolDistrictNumber', outputCol='School_Index')\n",
    "indexed_df = string_indexer.fit(df).transform(df)\n",
    "\n",
    "# Onehot encode indexed values\n",
    "encoder = OneHotEncoder(inputCol='School_Index', outputCol='School_Vec')\n",
    "encoded_df = encoder.transform(indexed_df)\n",
    "\n",
    "# Inspect the transformation steps\n",
    "encoded_df[['SCHOOLDISTRICTNUMBER', 'School_Index', 'School_Vec']].show(truncate=100)"
   ]
  }
 ],
 "metadata": {
  "kernelspec": {
   "display_name": "Python 3",
   "language": "python",
   "name": "python3"
  },
  "language_info": {
   "codemirror_mode": {
    "name": "ipython",
    "version": 3
   },
   "file_extension": ".py",
   "mimetype": "text/x-python",
   "name": "python",
   "nbconvert_exporter": "python",
   "pygments_lexer": "ipython3",
   "version": "3.6.8"
  }
 },
 "nbformat": 4,
 "nbformat_minor": 2
}
